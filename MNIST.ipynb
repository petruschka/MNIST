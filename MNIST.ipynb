{
 "cells": [
  {
   "cell_type": "markdown",
   "metadata": {},
   "source": [
    "# MNIST MLP Demonstration"
   ]
  },
  {
   "cell_type": "markdown",
   "metadata": {},
   "source": [
    "This project deals with the classification of handwritten digits. MLPs (Multilayer Perceptrons) are trained to predict digits in the MNIST dataset. Especially the dropout technuque is demonstrated to reduce overfitting."
   ]
  },
  {
   "cell_type": "code",
   "execution_count": 30,
   "metadata": {},
   "outputs": [],
   "source": [
    "import numpy as np\n",
    "import matplotlib.pyplot as plt\n",
    "from keras.datasets import mnist"
   ]
  },
  {
   "cell_type": "code",
   "execution_count": 31,
   "metadata": {},
   "outputs": [],
   "source": [
    "#split the data into the training and testing dataset\n",
    "(x_train, y_train), (x_test, y_test) = mnist.load_data()"
   ]
  },
  {
   "cell_type": "code",
   "execution_count": 32,
   "metadata": {},
   "outputs": [
    {
     "name": "stdout",
     "output_type": "stream",
     "text": [
      "(60000, 28, 28)\n",
      "(60000,)\n",
      "(10000, 28, 28)\n",
      "(10000,)\n"
     ]
    }
   ],
   "source": [
    "print(x_train.shape)\n",
    "print(y_train.shape)\n",
    "print(x_test.shape)\n",
    "print(y_test.shape)"
   ]
  },
  {
   "cell_type": "markdown",
   "metadata": {},
   "source": [
    "The training dataset contains 60,000 images, while the testing dataset contains 10,000 images."
   ]
  },
  {
   "cell_type": "markdown",
   "metadata": {},
   "source": [
    "### Draw the first 10 numbers"
   ]
  },
  {
   "cell_type": "code",
   "execution_count": 33,
   "metadata": {},
   "outputs": [
    {
     "data": {
      "image/png": "[encoded data removed]",
      "text/plain": [
       "<Figure size 1440x1440 with 5 Axes>"
      ]
     },
     "metadata": {
      "needs_background": "light"
     },
     "output_type": "display_data"
    }
   ],
   "source": [
    "fig = plt.figure(figsize=(20,20))\n",
    "for i in range(5):\n",
    "    ax = fig.add_subplot(1, 5, i+1)\n",
    "    ax.imshow(x_train[i], cmap='gray')\n",
    "    ax.set_title(y_train[i])"
   ]
  },
  {
   "cell_type": "markdown",
   "metadata": {},
   "source": [
    "### One hot encodig"
   ]
  },
  {
   "cell_type": "code",
   "execution_count": 34,
   "metadata": {},
   "outputs": [
    {
     "data": {
      "text/plain": [
       "5"
      ]
     },
     "execution_count": 34,
     "metadata": {},
     "output_type": "execute_result"
    }
   ],
   "source": [
    "#In the original dataset numbers are classified using the numbers 0-9\n",
    "y_train[0]"
   ]
  },
  {
   "cell_type": "code",
   "execution_count": 35,
   "metadata": {},
   "outputs": [],
   "source": [
    "#one hot encode training and testing categories\n",
    "from keras.utils import np_utils\n",
    "\n",
    "y_train = np_utils.to_categorical(y_train)\n",
    "y_test = np_utils.to_categorical(y_test)"
   ]
  },
  {
   "cell_type": "code",
   "execution_count": 36,
   "metadata": {},
   "outputs": [
    {
     "data": {
      "text/plain": [
       "array([0., 0., 0., 0., 0., 1., 0., 0., 0., 0.], dtype=float32)"
      ]
     },
     "execution_count": 36,
     "metadata": {},
     "output_type": "execute_result"
    }
   ],
   "source": [
    "#The encoded dataset contains a vector with 10 binary entries. The location were the entry is \"activated\" \n",
    "#corresponds to the original number.\n",
    "y_train[0]"
   ]
  },
  {
   "cell_type": "markdown",
   "metadata": {},
   "source": [
    "## Simple MLP Model"
   ]
  },
  {
   "cell_type": "markdown",
   "metadata": {},
   "source": [
    "The following model uses an input layer, 2 hidden layers with 100 neurons respectively and an output layer with 10 nodes. The hidden layers use ReLUs as activation functions, while the output layer uses softmax in order to predict probabilities of being in each number category."
   ]
  },
  {
   "cell_type": "code",
   "execution_count": 64,
   "metadata": {},
   "outputs": [
    {
     "name": "stdout",
     "output_type": "stream",
     "text": [
      "_________________________________________________________________\n",
      "Layer (type)                 Output Shape              Param #   \n",
      "=================================================================\n",
      "flatten_10 (Flatten)         (None, 784)               0         \n",
      "_________________________________________________________________\n",
      "dense_28 (Dense)             (None, 100)               78500     \n",
      "_________________________________________________________________\n",
      "dense_29 (Dense)             (None, 100)               10100     \n",
      "_________________________________________________________________\n",
      "dense_30 (Dense)             (None, 10)                1010      \n",
      "=================================================================\n",
      "Total params: 89,610\n",
      "Trainable params: 89,610\n",
      "Non-trainable params: 0\n",
      "_________________________________________________________________\n"
     ]
    }
   ],
   "source": [
    "from keras.models import Sequential\n",
    "from keras.layers import Flatten, Dropout, Dense\n",
    "\n",
    "model = Sequential()\n",
    "model.add(Flatten(input_shape=x_train.shape[1:]))\n",
    "model.add(Dense(100, activation='relu'))\n",
    "model.add(Dense(100, activation='relu'))\n",
    "model.add(Dense(10, activation='softmax'))\n",
    "model.summary()"
   ]
  },
  {
   "cell_type": "code",
   "execution_count": 65,
   "metadata": {},
   "outputs": [],
   "source": [
    "model.compile(loss='categorical_crossentropy', optimizer='rmsprop',\n",
    "             metrics=['accuracy'])"
   ]
  },
  {
   "cell_type": "markdown",
   "metadata": {},
   "source": [
    "### Display the accuracy with random weights"
   ]
  },
  {
   "cell_type": "code",
   "execution_count": 66,
   "metadata": {},
   "outputs": [
    {
     "name": "stdout",
     "output_type": "stream",
     "text": [
      "10000/10000 [==============================] - 1s 93us/step\n",
      "['loss', 'acc']\n",
      "[14.391624537658691, 0.0858]\n"
     ]
    }
   ],
   "source": [
    "metrics = model.evaluate(x_test, y_test)\n",
    "print(model.metrics_names)\n",
    "print(metrics)"
   ]
  },
  {
   "cell_type": "markdown",
   "metadata": {},
   "source": [
    "As expected the prediction accuracy is very low with initialized random weights."
   ]
  },
  {
   "cell_type": "code",
   "execution_count": 67,
   "metadata": {},
   "outputs": [
    {
     "name": "stdout",
     "output_type": "stream",
     "text": [
      "Train on 48000 samples, validate on 12000 samples\n",
      "Epoch 1/20\n",
      "48000/48000 [==============================] - 3s 63us/step - loss: 5.9445 - acc: 0.6203 - val_loss: 5.0049 - val_acc: 0.6813\n",
      "\n",
      "Epoch 00001: val_loss improved from inf to 5.00493, saving model to mnist.model.best.hdf5\n",
      "Epoch 2/20\n",
      "48000/48000 [==============================] - 3s 54us/step - loss: 4.5226 - acc: 0.7137 - val_loss: 4.4173 - val_acc: 0.7218\n",
      "\n",
      "Epoch 00002: val_loss improved from 5.00493 to 4.41733, saving model to mnist.model.best.hdf5\n",
      "Epoch 3/20\n",
      "48000/48000 [==============================] - 3s 56us/step - loss: 4.3598 - acc: 0.7253 - val_loss: 4.2807 - val_acc: 0.7308\n",
      "\n",
      "Epoch 00003: val_loss improved from 4.41733 to 4.28069, saving model to mnist.model.best.hdf5\n",
      "Epoch 4/20\n",
      "48000/48000 [==============================] - 3s 55us/step - loss: 4.2433 - acc: 0.7337 - val_loss: 4.1534 - val_acc: 0.7398\n",
      "\n",
      "Epoch 00004: val_loss improved from 4.28069 to 4.15340, saving model to mnist.model.best.hdf5\n",
      "Epoch 5/20\n",
      "48000/48000 [==============================] - 3s 58us/step - loss: 4.1968 - acc: 0.7367 - val_loss: 4.0796 - val_acc: 0.7438\n",
      "\n",
      "Epoch 00005: val_loss improved from 4.15340 to 4.07962, saving model to mnist.model.best.hdf5\n",
      "Epoch 6/20\n",
      "48000/48000 [==============================] - 3s 56us/step - loss: 4.2276 - acc: 0.7352 - val_loss: 4.1601 - val_acc: 0.7403\n",
      "\n",
      "Epoch 00006: val_loss did not improve from 4.07962\n",
      "Epoch 7/20\n",
      "48000/48000 [==============================] - 3s 55us/step - loss: 4.1052 - acc: 0.7434 - val_loss: 4.2057 - val_acc: 0.7368\n",
      "\n",
      "Epoch 00007: val_loss did not improve from 4.07962\n",
      "Epoch 8/20\n",
      "48000/48000 [==============================] - 3s 58us/step - loss: 4.0827 - acc: 0.7447 - val_loss: 4.0250 - val_acc: 0.7483\n",
      "\n",
      "Epoch 00008: val_loss improved from 4.07962 to 4.02499, saving model to mnist.model.best.hdf5\n",
      "Epoch 9/20\n",
      "48000/48000 [==============================] - 3s 56us/step - loss: 4.0188 - acc: 0.7485 - val_loss: 4.2243 - val_acc: 0.7356\n",
      "\n",
      "Epoch 00009: val_loss did not improve from 4.02499\n",
      "Epoch 10/20\n",
      "48000/48000 [==============================] - 3s 59us/step - loss: 4.0065 - acc: 0.7496 - val_loss: 4.1660 - val_acc: 0.7398\n",
      "\n",
      "Epoch 00010: val_loss did not improve from 4.02499\n",
      "Epoch 11/20\n",
      "48000/48000 [==============================] - 3s 57us/step - loss: 3.9682 - acc: 0.7521 - val_loss: 4.1196 - val_acc: 0.7429\n",
      "\n",
      "Epoch 00011: val_loss did not improve from 4.02499\n",
      "Epoch 12/20\n",
      "48000/48000 [==============================] - 3s 54us/step - loss: 3.9302 - acc: 0.7545 - val_loss: 4.0623 - val_acc: 0.7465\n",
      "\n",
      "Epoch 00012: val_loss did not improve from 4.02499\n",
      "Epoch 13/20\n",
      "48000/48000 [==============================] - 3s 57us/step - loss: 3.9646 - acc: 0.7525 - val_loss: 4.1525 - val_acc: 0.7413\n",
      "\n",
      "Epoch 00013: val_loss did not improve from 4.02499\n",
      "Epoch 14/20\n",
      "48000/48000 [==============================] - 3s 55us/step - loss: 3.9525 - acc: 0.7533 - val_loss: 4.0395 - val_acc: 0.7482\n",
      "\n",
      "Epoch 00014: val_loss did not improve from 4.02499\n",
      "Epoch 15/20\n",
      "48000/48000 [==============================] - 3s 56us/step - loss: 3.9074 - acc: 0.7561 - val_loss: 3.9690 - val_acc: 0.7527\n",
      "\n",
      "Epoch 00015: val_loss improved from 4.02499 to 3.96902, saving model to mnist.model.best.hdf5\n",
      "Epoch 16/20\n",
      "48000/48000 [==============================] - 3s 57us/step - loss: 3.8886 - acc: 0.7575 - val_loss: 3.9440 - val_acc: 0.7542\n",
      "\n",
      "Epoch 00016: val_loss improved from 3.96902 to 3.94401, saving model to mnist.model.best.hdf5\n",
      "Epoch 17/20\n",
      "48000/48000 [==============================] - 3s 55us/step - loss: 3.9352 - acc: 0.7546 - val_loss: 4.0835 - val_acc: 0.7454\n",
      "\n",
      "Epoch 00017: val_loss did not improve from 3.94401\n",
      "Epoch 18/20\n",
      "48000/48000 [==============================] - 3s 55us/step - loss: 3.9090 - acc: 0.7563 - val_loss: 4.1530 - val_acc: 0.7408\n",
      "\n",
      "Epoch 00018: val_loss did not improve from 3.94401\n",
      "Epoch 19/20\n",
      "48000/48000 [==============================] - 3s 55us/step - loss: 3.8784 - acc: 0.7584 - val_loss: 4.2569 - val_acc: 0.7342\n",
      "\n",
      "Epoch 00019: val_loss did not improve from 3.94401\n",
      "Epoch 20/20\n",
      "48000/48000 [==============================] - 3s 55us/step - loss: 3.8534 - acc: 0.7598 - val_loss: 3.9254 - val_acc: 0.7555\n",
      "\n",
      "Epoch 00020: val_loss improved from 3.94401 to 3.92540, saving model to mnist.model.best.hdf5\n"
     ]
    }
   ],
   "source": [
    "from keras.callbacks import ModelCheckpoint\n",
    "   \n",
    "checkpointer = ModelCheckpoint(filepath='mnist.model.best.hdf5', \n",
    "                               verbose=1, save_best_only=True)\n",
    "hist = model.fit(x_train, y_train, batch_size=128, epochs=20,\n",
    "          validation_split=0.2, callbacks=[checkpointer],\n",
    "          verbose=1, shuffle=True)"
   ]
  },
  {
   "cell_type": "code",
   "execution_count": 68,
   "metadata": {},
   "outputs": [],
   "source": [
    "model.load_weights('mnist.model.best.hdf5')"
   ]
  },
  {
   "cell_type": "code",
   "execution_count": 69,
   "metadata": {},
   "outputs": [
    {
     "name": "stdout",
     "output_type": "stream",
     "text": [
      "10000/10000 [==============================] - 1s 56us/step\n",
      "['loss', 'acc']\n",
      "[3.878389277267456, 0.7581]\n"
     ]
    }
   ],
   "source": [
    "metrics = model.evaluate(x_test, y_test)\n",
    "print(model.metrics_names)\n",
    "print(metrics)"
   ]
  },
  {
   "cell_type": "markdown",
   "metadata": {},
   "source": [
    "After training the accuracy increases dramatically (around 76%)"
   ]
  },
  {
   "cell_type": "markdown",
   "metadata": {},
   "source": [
    "## Simple MLP Model with dropout technique"
   ]
  },
  {
   "cell_type": "markdown",
   "metadata": {},
   "source": [
    "The following model adds two additional layer after each hidden layer. These dropout layers help reduce overfitting using a dropout rate of 20%."
   ]
  },
  {
   "cell_type": "code",
   "execution_count": 70,
   "metadata": {},
   "outputs": [
    {
     "name": "stdout",
     "output_type": "stream",
     "text": [
      "_________________________________________________________________\n",
      "Layer (type)                 Output Shape              Param #   \n",
      "=================================================================\n",
      "flatten_11 (Flatten)         (None, 784)               0         \n",
      "_________________________________________________________________\n",
      "dense_31 (Dense)             (None, 100)               78500     \n",
      "_________________________________________________________________\n",
      "dropout_9 (Dropout)          (None, 100)               0         \n",
      "_________________________________________________________________\n",
      "dense_32 (Dense)             (None, 100)               10100     \n",
      "_________________________________________________________________\n",
      "dropout_10 (Dropout)         (None, 100)               0         \n",
      "_________________________________________________________________\n",
      "dense_33 (Dense)             (None, 10)                1010      \n",
      "=================================================================\n",
      "Total params: 89,610\n",
      "Trainable params: 89,610\n",
      "Non-trainable params: 0\n",
      "_________________________________________________________________\n"
     ]
    }
   ],
   "source": [
    "from keras.models import Sequential\n",
    "from keras.layers import Flatten, Dropout, Dense\n",
    "\n",
    "model = Sequential()\n",
    "model.add(Flatten(input_shape=x_train.shape[1:]))\n",
    "model.add(Dense(100, activation='relu'))\n",
    "model.add(Dropout(0.2))\n",
    "model.add(Dense(100, activation='relu'))\n",
    "model.add(Dropout(0.2))\n",
    "model.add(Dense(10, activation='softmax'))\n",
    "model.summary()"
   ]
  },
  {
   "cell_type": "code",
   "execution_count": 71,
   "metadata": {},
   "outputs": [],
   "source": [
    "model.compile(loss='categorical_crossentropy', optimizer='rmsprop',\n",
    "             metrics=['accuracy'])"
   ]
  },
  {
   "cell_type": "code",
   "execution_count": 72,
   "metadata": {},
   "outputs": [
    {
     "name": "stdout",
     "output_type": "stream",
     "text": [
      "Train on 48000 samples, validate on 12000 samples\n",
      "Epoch 1/20\n",
      "48000/48000 [==============================] - 4s 74us/step - loss: 6.6367 - acc: 0.5749 - val_loss: 3.6281 - val_acc: 0.7665\n",
      "\n",
      "Epoch 00001: val_loss improved from inf to 3.62812, saving model to mnist_dropout.model.best.hdf5\n",
      "Epoch 2/20\n",
      "48000/48000 [==============================] - 3s 63us/step - loss: 3.6793 - acc: 0.7623 - val_loss: 2.8415 - val_acc: 0.8182\n",
      "\n",
      "Epoch 00002: val_loss improved from 3.62812 to 2.84152, saving model to mnist_dropout.model.best.hdf5\n",
      "Epoch 3/20\n",
      "48000/48000 [==============================] - 3s 60us/step - loss: 2.6781 - acc: 0.8264 - val_loss: 1.3859 - val_acc: 0.9088\n",
      "\n",
      "Epoch 00003: val_loss improved from 2.84152 to 1.38591, saving model to mnist_dropout.model.best.hdf5\n",
      "Epoch 4/20\n",
      "48000/48000 [==============================] - 3s 61us/step - loss: 2.0101 - acc: 0.8685 - val_loss: 1.4495 - val_acc: 0.9057\n",
      "\n",
      "Epoch 00004: val_loss did not improve from 1.38591\n",
      "Epoch 5/20\n",
      "48000/48000 [==============================] - 3s 63us/step - loss: 1.8195 - acc: 0.8813 - val_loss: 1.3653 - val_acc: 0.9119\n",
      "\n",
      "Epoch 00005: val_loss improved from 1.38591 to 1.36532, saving model to mnist_dropout.model.best.hdf5\n",
      "Epoch 6/20\n",
      "48000/48000 [==============================] - 3s 63us/step - loss: 1.7012 - acc: 0.8892 - val_loss: 1.1053 - val_acc: 0.9284\n",
      "\n",
      "Epoch 00006: val_loss improved from 1.36532 to 1.10533, saving model to mnist_dropout.model.best.hdf5\n",
      "Epoch 7/20\n",
      "48000/48000 [==============================] - 3s 61us/step - loss: 1.6253 - acc: 0.8946 - val_loss: 1.1871 - val_acc: 0.9231\n",
      "\n",
      "Epoch 00007: val_loss did not improve from 1.10533\n",
      "Epoch 8/20\n",
      "48000/48000 [==============================] - 3s 61us/step - loss: 1.5060 - acc: 0.9028 - val_loss: 1.0643 - val_acc: 0.9312\n",
      "\n",
      "Epoch 00008: val_loss improved from 1.10533 to 1.06427, saving model to mnist_dropout.model.best.hdf5\n",
      "Epoch 9/20\n",
      "48000/48000 [==============================] - 3s 61us/step - loss: 1.4030 - acc: 0.9092 - val_loss: 0.9564 - val_acc: 0.9388\n",
      "\n",
      "Epoch 00009: val_loss improved from 1.06427 to 0.95639, saving model to mnist_dropout.model.best.hdf5\n",
      "Epoch 10/20\n",
      "48000/48000 [==============================] - 3s 60us/step - loss: 1.4137 - acc: 0.9086 - val_loss: 1.0073 - val_acc: 0.9357\n",
      "\n",
      "Epoch 00010: val_loss did not improve from 0.95639\n",
      "Epoch 11/20\n",
      "48000/48000 [==============================] - 3s 63us/step - loss: 1.4116 - acc: 0.9093 - val_loss: 1.1308 - val_acc: 0.9279\n",
      "\n",
      "Epoch 00011: val_loss did not improve from 0.95639\n",
      "Epoch 12/20\n",
      "48000/48000 [==============================] - 3s 59us/step - loss: 1.3441 - acc: 0.9137 - val_loss: 1.0031 - val_acc: 0.9356\n",
      "\n",
      "Epoch 00012: val_loss did not improve from 0.95639\n",
      "Epoch 13/20\n",
      "48000/48000 [==============================] - 3s 63us/step - loss: 1.3033 - acc: 0.9159 - val_loss: 0.9206 - val_acc: 0.9410\n",
      "\n",
      "Epoch 00013: val_loss improved from 0.95639 to 0.92056, saving model to mnist_dropout.model.best.hdf5\n",
      "Epoch 14/20\n",
      "48000/48000 [==============================] - 3s 64us/step - loss: 1.2962 - acc: 0.9164 - val_loss: 0.9242 - val_acc: 0.9413\n",
      "\n",
      "Epoch 00014: val_loss did not improve from 0.92056\n",
      "Epoch 15/20\n",
      "48000/48000 [==============================] - 3s 61us/step - loss: 1.2553 - acc: 0.9192 - val_loss: 0.9375 - val_acc: 0.9398\n",
      "\n",
      "Epoch 00015: val_loss did not improve from 0.92056\n",
      "Epoch 16/20\n",
      "48000/48000 [==============================] - 3s 63us/step - loss: 1.2572 - acc: 0.9194 - val_loss: 0.9840 - val_acc: 0.9373\n",
      "\n",
      "Epoch 00016: val_loss did not improve from 0.92056\n",
      "Epoch 17/20\n",
      "48000/48000 [==============================] - 3s 62us/step - loss: 1.2701 - acc: 0.9184 - val_loss: 0.8926 - val_acc: 0.9430\n",
      "\n",
      "Epoch 00017: val_loss improved from 0.92056 to 0.89257, saving model to mnist_dropout.model.best.hdf5\n",
      "Epoch 18/20\n",
      "48000/48000 [==============================] - 3s 63us/step - loss: 1.2369 - acc: 0.9211 - val_loss: 0.8770 - val_acc: 0.9443\n",
      "\n",
      "Epoch 00018: val_loss improved from 0.89257 to 0.87703, saving model to mnist_dropout.model.best.hdf5\n",
      "Epoch 19/20\n",
      "48000/48000 [==============================] - 3s 63us/step - loss: 1.1680 - acc: 0.9252 - val_loss: 0.8393 - val_acc: 0.9463\n",
      "\n",
      "Epoch 00019: val_loss improved from 0.87703 to 0.83934, saving model to mnist_dropout.model.best.hdf5\n",
      "Epoch 20/20\n",
      "48000/48000 [==============================] - 3s 61us/step - loss: 1.1185 - acc: 0.9282 - val_loss: 0.8250 - val_acc: 0.9470\n",
      "\n",
      "Epoch 00020: val_loss improved from 0.83934 to 0.82501, saving model to mnist_dropout.model.best.hdf5\n"
     ]
    }
   ],
   "source": [
    "from keras.callbacks import ModelCheckpoint\n",
    "   \n",
    "checkpointer = ModelCheckpoint(filepath='mnist_dropout.model.best.hdf5', \n",
    "                               verbose=1, save_best_only=True)\n",
    "hist = model.fit(x_train, y_train, batch_size=128, epochs=20,\n",
    "          validation_split=0.2, callbacks=[checkpointer],\n",
    "          verbose=1, shuffle=True)"
   ]
  },
  {
   "cell_type": "code",
   "execution_count": 73,
   "metadata": {},
   "outputs": [],
   "source": [
    "model.load_weights('mnist_dropout.model.best.hdf5')"
   ]
  },
  {
   "cell_type": "code",
   "execution_count": 74,
   "metadata": {},
   "outputs": [
    {
     "name": "stdout",
     "output_type": "stream",
     "text": [
      "10000/10000 [==============================] - 1s 55us/step\n",
      "['loss', 'acc']\n",
      "[0.8326474254135557, 0.9474]\n"
     ]
    }
   ],
   "source": [
    "metrics = model.evaluate(x_test, y_test)\n",
    "print(model.metrics_names)\n",
    "print(metrics)"
   ]
  },
  {
   "cell_type": "markdown",
   "metadata": {},
   "source": [
    "This model generalizes a lot better and thus produces an accuracy of around 95%."
   ]
  },
  {
   "cell_type": "markdown",
   "metadata": {},
   "source": [
    "## Final Remarks"
   ]
  },
  {
   "cell_type": "markdown",
   "metadata": {},
   "source": [
    "While the model using the dropout technique performs better in the current iteration, this behaviour is not always observable. In 2 out of 4 iterations the simple model performed actually better (although the performance was only only slightly better by 2-3%). The model using a dropout rate on the other hand seems to perform extremely stable producing a constant accuracy of approximately 95%."
   ]
  }
 ],
 "metadata": {
  "kernelspec": {
   "display_name": "Python 3",
   "language": "python",
   "name": "python3"
  },
  "language_info": {
   "codemirror_mode": {
    "name": "ipython",
    "version": 3
   },
   "file_extension": ".py",
   "mimetype": "text/x-python",
   "name": "python",
   "nbconvert_exporter": "python",
   "pygments_lexer": "ipython3",
   "version": "3.6.6"
  }
 },
 "nbformat": 4,
 "nbformat_minor": 2
}
